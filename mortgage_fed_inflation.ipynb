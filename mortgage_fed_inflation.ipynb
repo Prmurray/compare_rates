{
 "cells": [
  {
   "cell_type": "markdown",
   "metadata": {},
   "source": [
    "## Look at the relationship between Inflation, mortgage rates, and the Federal Reserve Prime Rate"
   ]
  },
  {
   "cell_type": "markdown",
   "metadata": {},
   "source": [
    "With the Federal Reserve talking about raising the Prime Rate, I started thinking about the relationship between the Fed's Prime Rate, Inflation, and mortgage lock rates."
   ]
  },
  {
   "cell_type": "code",
   "execution_count": 1,
   "metadata": {},
   "outputs": [],
   "source": [
    "import requests\n",
    "from bs4 import BeautifulSoup"
   ]
  },
  {
   "cell_type": "markdown",
   "metadata": {},
   "source": [
    "## Read in webpage that contains mortgage rates data"
   ]
  },
  {
   "cell_type": "markdown",
   "metadata": {},
   "source": [
    "I found three websites that had tables listing the changes in the rates I was interested in.  I used BeautifulSoup to scrape the charts off the webpages, then used pandas and matplotlib to analyze them. "
   ]
  },
  {
   "cell_type": "markdown",
   "metadata": {},
   "source": [
    "<div>\n",
    "<img src=freddiemac.png width=\"500\"/>\n",
    "</div>"
   ]
  },
  {
   "cell_type": "markdown",
   "metadata": {},
   "source": [
    "scrape the data from the website and write it to my computer.  \n",
    "(In the cell below I have error handling, but I did not keep with that practice throughout the project)"
   ]
  },
  {
   "cell_type": "code",
   "execution_count": 2,
   "metadata": {},
   "outputs": [],
   "source": [
    "mort_url = \"http://www.freddiemac.com/pmms/pmms30.html\"\n",
    "try:\n",
    "    mort_request = requests.get(mort_url)\n",
    "except requests.ConnectionError:\n",
    "    raise Exception(\"couldn't connect\")\n",
    "\n",
    "if mort_request.status_code != 200:\n",
    "    raise Exception(\"Unable to get data\")\n",
    "\n",
    "with open(\"lockrates.html\", \"w+\", encoding=\"utf-8\") as mort_f:\n",
    "    mort_f.write(mort_request.text)"
   ]
  },
  {
   "cell_type": "markdown",
   "metadata": {},
   "source": [
    "read the webpage and parse the table from the site"
   ]
  },
  {
   "cell_type": "code",
   "execution_count": 3,
   "metadata": {},
   "outputs": [],
   "source": [
    "with open(\"lockrates.html\", encoding=\"utf-8\") as mort_g:\n",
    "    mort_page = mort_g.read()\n",
    "\n",
    "mort_soup = BeautifulSoup(mort_page, \"html.parser\")\n",
    "\n",
    "mort_rate_tables = mort_soup.findAll('table', class_=\"hover\")"
   ]
  },
  {
   "cell_type": "markdown",
   "metadata": {},
   "source": [
    "after I isolated the table, I imported pandas and converted it to a pandas dataframe"
   ]
  },
  {
   "cell_type": "code",
   "execution_count": 4,
   "metadata": {},
   "outputs": [],
   "source": [
    "import pandas as pd\n",
    "\n",
    "mort_rate_table = pd.read_html(str(mort_rate_tables))"
   ]
  },
  {
   "cell_type": "markdown",
   "metadata": {},
   "source": [
    "### Combine the charts to one Mortgage Rate dataset\n",
    "\n",
    "The tables contained a lot of columns I wanted to delete so I merged them individually instead of concating them all at once"
   ]
  },
  {
   "cell_type": "code",
   "execution_count": 5,
   "metadata": {},
   "outputs": [],
   "source": [
    "morts = mort_rate_table[0]\n",
    "\n",
    "for x in range(1, len(mort_rate_table)):\n",
    "    morts = morts.merge(mort_rate_table[x])\n"
   ]
  },
  {
   "cell_type": "code",
   "execution_count": 6,
   "metadata": {},
   "outputs": [
    {
     "data": {
      "text/html": [
       "<div>\n",
       "<style scoped>\n",
       "    .dataframe tbody tr th:only-of-type {\n",
       "        vertical-align: middle;\n",
       "    }\n",
       "\n",
       "    .dataframe tbody tr th {\n",
       "        vertical-align: top;\n",
       "    }\n",
       "\n",
       "    .dataframe thead th {\n",
       "        text-align: right;\n",
       "    }\n",
       "</style>\n",
       "<table border=\"1\" class=\"dataframe\">\n",
       "  <thead>\n",
       "    <tr style=\"text-align: right;\">\n",
       "      <th></th>\n",
       "      <th>Unnamed: 0</th>\n",
       "      <th>2022</th>\n",
       "      <th>2022.1</th>\n",
       "      <th>2021</th>\n",
       "      <th>2021.1</th>\n",
       "      <th>2020</th>\n",
       "      <th>2020.1</th>\n",
       "      <th>2019</th>\n",
       "      <th>2019.1</th>\n",
       "      <th>2018</th>\n",
       "      <th>...</th>\n",
       "      <th>1975</th>\n",
       "      <th>1975.1</th>\n",
       "      <th>1974</th>\n",
       "      <th>1974.1</th>\n",
       "      <th>1973</th>\n",
       "      <th>1973.1</th>\n",
       "      <th>1972</th>\n",
       "      <th>1972.1</th>\n",
       "      <th>1971</th>\n",
       "      <th>1971.1</th>\n",
       "    </tr>\n",
       "  </thead>\n",
       "  <tbody>\n",
       "    <tr>\n",
       "      <th>0</th>\n",
       "      <td>NaN</td>\n",
       "      <td>Rate</td>\n",
       "      <td>Pts</td>\n",
       "      <td>Rate</td>\n",
       "      <td>Pts</td>\n",
       "      <td>Rate</td>\n",
       "      <td>Pts</td>\n",
       "      <td>Rate</td>\n",
       "      <td>Pts</td>\n",
       "      <td>Rate</td>\n",
       "      <td>...</td>\n",
       "      <td>Rate</td>\n",
       "      <td>Pts</td>\n",
       "      <td>Rate</td>\n",
       "      <td>Pts</td>\n",
       "      <td>Rate</td>\n",
       "      <td>Pts</td>\n",
       "      <td>Rate</td>\n",
       "      <td>Pts</td>\n",
       "      <td>Rate</td>\n",
       "      <td>Pts</td>\n",
       "    </tr>\n",
       "    <tr>\n",
       "      <th>1</th>\n",
       "      <td>January</td>\n",
       "      <td>3.45</td>\n",
       "      <td>0.7</td>\n",
       "      <td>2.74</td>\n",
       "      <td>0.7</td>\n",
       "      <td>3.62</td>\n",
       "      <td>0.7</td>\n",
       "      <td>4.46</td>\n",
       "      <td>0.5</td>\n",
       "      <td>4.03</td>\n",
       "      <td>...</td>\n",
       "      <td>9.43</td>\n",
       "      <td>1.2</td>\n",
       "      <td>8.54</td>\n",
       "      <td>1.0</td>\n",
       "      <td>7.44</td>\n",
       "      <td>0.9</td>\n",
       "      <td>7.44</td>\n",
       "      <td>1.0</td>\n",
       "      <td>na</td>\n",
       "      <td>na</td>\n",
       "    </tr>\n",
       "    <tr>\n",
       "      <th>2</th>\n",
       "      <td>February</td>\n",
       "      <td>3.76</td>\n",
       "      <td>0.8</td>\n",
       "      <td>2.81</td>\n",
       "      <td>0.7</td>\n",
       "      <td>3.47</td>\n",
       "      <td>0.7</td>\n",
       "      <td>4.37</td>\n",
       "      <td>0.5</td>\n",
       "      <td>4.33</td>\n",
       "      <td>...</td>\n",
       "      <td>9.10</td>\n",
       "      <td>1.2</td>\n",
       "      <td>8.46</td>\n",
       "      <td>1.0</td>\n",
       "      <td>7.44</td>\n",
       "      <td>1.0</td>\n",
       "      <td>7.32</td>\n",
       "      <td>0.9</td>\n",
       "      <td>na</td>\n",
       "      <td>na</td>\n",
       "    </tr>\n",
       "    <tr>\n",
       "      <th>3</th>\n",
       "      <td>March</td>\n",
       "      <td>NaN</td>\n",
       "      <td>NaN</td>\n",
       "      <td>3.08</td>\n",
       "      <td>0.7</td>\n",
       "      <td>3.45</td>\n",
       "      <td>0.7</td>\n",
       "      <td>4.27</td>\n",
       "      <td>0.5</td>\n",
       "      <td>4.44</td>\n",
       "      <td>...</td>\n",
       "      <td>8.89</td>\n",
       "      <td>1.1</td>\n",
       "      <td>8.41</td>\n",
       "      <td>1.0</td>\n",
       "      <td>7.46</td>\n",
       "      <td>0.9</td>\n",
       "      <td>7.29</td>\n",
       "      <td>0.9</td>\n",
       "      <td>na</td>\n",
       "      <td>na</td>\n",
       "    </tr>\n",
       "    <tr>\n",
       "      <th>4</th>\n",
       "      <td>April</td>\n",
       "      <td>NaN</td>\n",
       "      <td>NaN</td>\n",
       "      <td>3.06</td>\n",
       "      <td>0.7</td>\n",
       "      <td>3.31</td>\n",
       "      <td>0.7</td>\n",
       "      <td>4.14</td>\n",
       "      <td>0.5</td>\n",
       "      <td>4.47</td>\n",
       "      <td>...</td>\n",
       "      <td>8.82</td>\n",
       "      <td>1.0</td>\n",
       "      <td>8.58</td>\n",
       "      <td>1.0</td>\n",
       "      <td>7.54</td>\n",
       "      <td>0.9</td>\n",
       "      <td>7.29</td>\n",
       "      <td>0.9</td>\n",
       "      <td>7.31</td>\n",
       "      <td>na</td>\n",
       "    </tr>\n",
       "  </tbody>\n",
       "</table>\n",
       "<p>5 rows × 105 columns</p>\n",
       "</div>"
      ],
      "text/plain": [
       "  Unnamed: 0  2022 2022.1  2021 2021.1  2020 2020.1  2019 2019.1  2018  ...  \\\n",
       "0        NaN  Rate    Pts  Rate    Pts  Rate    Pts  Rate    Pts  Rate  ...   \n",
       "1    January  3.45    0.7  2.74    0.7  3.62    0.7  4.46    0.5  4.03  ...   \n",
       "2   February  3.76    0.8  2.81    0.7  3.47    0.7  4.37    0.5  4.33  ...   \n",
       "3      March   NaN    NaN  3.08    0.7  3.45    0.7  4.27    0.5  4.44  ...   \n",
       "4      April   NaN    NaN  3.06    0.7  3.31    0.7  4.14    0.5  4.47  ...   \n",
       "\n",
       "   1975 1975.1  1974 1974.1  1973 1973.1  1972 1972.1  1971 1971.1  \n",
       "0  Rate    Pts  Rate    Pts  Rate    Pts  Rate    Pts  Rate    Pts  \n",
       "1  9.43    1.2  8.54    1.0  7.44    0.9  7.44    1.0    na     na  \n",
       "2  9.10    1.2  8.46    1.0  7.44    1.0  7.32    0.9    na     na  \n",
       "3  8.89    1.1  8.41    1.0  7.46    0.9  7.29    0.9    na     na  \n",
       "4  8.82    1.0  8.58    1.0  7.54    0.9  7.29    0.9  7.31     na  \n",
       "\n",
       "[5 rows x 105 columns]"
      ]
     },
     "execution_count": 6,
     "metadata": {},
     "output_type": "execute_result"
    }
   ],
   "source": [
    "morts.head()"
   ]
  },
  {
   "cell_type": "markdown",
   "metadata": {},
   "source": [
    "### Clean up the Mortgage Rate dataset\n",
    "\n",
    "I only wanted to keep the columns that contained the actual mortgage rate, so I deleted the columns that listed the change in rate points"
   ]
  },
  {
   "cell_type": "code",
   "execution_count": 7,
   "metadata": {},
   "outputs": [],
   "source": [
    "# Keeping the full year (ex.2022, 2021, 2020) and getting rid of the other columns (ex.2022.1, 2021.1, 2020.1)\n",
    "dec_year = []\n",
    "good_years = []\n",
    "for column in morts.columns:\n",
    "    try:\n",
    "        int(column)\n",
    "        good_years.append(str(column))\n",
    "    except ValueError:\n",
    "        dec_year.append(column)\n",
    "        \n",
    "dec_year = dec_year[1:]\n",
    "good_years = good_years[1:-1]"
   ]
  },
  {
   "cell_type": "code",
   "execution_count": 8,
   "metadata": {},
   "outputs": [
    {
     "data": {
      "text/plain": [
       "['2021', '2020', '2019', '2018', '2017']"
      ]
     },
     "execution_count": 8,
     "metadata": {},
     "output_type": "execute_result"
    }
   ],
   "source": [
    "good_years[:5]"
   ]
  },
  {
   "cell_type": "markdown",
   "metadata": {},
   "source": [
    "To clean dataframe:\n",
    "- drop all columns in `dec_year` list, so I only have mortgage rate data in dataframe.\n",
    "- drop the first and last rows, which do not contain data\n",
    "- drop `2022` and `1971` because they are missing data\n",
    "- rename `Unnamed:0` to `month` to make the DataFrame easier to read"
   ]
  },
  {
   "cell_type": "code",
   "execution_count": 9,
   "metadata": {},
   "outputs": [],
   "source": [
    "morts = morts.drop(dec_year, axis=1)\n",
    "morts = morts.drop([0, 13], axis=0)\n",
    "morts = morts.drop(['2022', '1971'], axis=1)\n",
    "morts = morts.rename({\"Unnamed: 0\": \"month\"}, axis=1)"
   ]
  },
  {
   "cell_type": "code",
   "execution_count": 10,
   "metadata": {},
   "outputs": [
    {
     "data": {
      "text/html": [
       "<div>\n",
       "<style scoped>\n",
       "    .dataframe tbody tr th:only-of-type {\n",
       "        vertical-align: middle;\n",
       "    }\n",
       "\n",
       "    .dataframe tbody tr th {\n",
       "        vertical-align: top;\n",
       "    }\n",
       "\n",
       "    .dataframe thead th {\n",
       "        text-align: right;\n",
       "    }\n",
       "</style>\n",
       "<table border=\"1\" class=\"dataframe\">\n",
       "  <thead>\n",
       "    <tr style=\"text-align: right;\">\n",
       "      <th></th>\n",
       "      <th>month</th>\n",
       "      <th>2021</th>\n",
       "      <th>2020</th>\n",
       "      <th>2019</th>\n",
       "      <th>2018</th>\n",
       "      <th>2017</th>\n",
       "      <th>2016</th>\n",
       "      <th>2015</th>\n",
       "      <th>2014</th>\n",
       "      <th>2013</th>\n",
       "      <th>...</th>\n",
       "      <th>1981</th>\n",
       "      <th>1980</th>\n",
       "      <th>1979</th>\n",
       "      <th>1978</th>\n",
       "      <th>1977</th>\n",
       "      <th>1976</th>\n",
       "      <th>1975</th>\n",
       "      <th>1974</th>\n",
       "      <th>1973</th>\n",
       "      <th>1972</th>\n",
       "    </tr>\n",
       "  </thead>\n",
       "  <tbody>\n",
       "    <tr>\n",
       "      <th>1</th>\n",
       "      <td>January</td>\n",
       "      <td>2.74</td>\n",
       "      <td>3.62</td>\n",
       "      <td>4.46</td>\n",
       "      <td>4.03</td>\n",
       "      <td>4.15</td>\n",
       "      <td>3.87</td>\n",
       "      <td>3.67</td>\n",
       "      <td>4.43</td>\n",
       "      <td>3.41</td>\n",
       "      <td>...</td>\n",
       "      <td>14.90</td>\n",
       "      <td>12.88</td>\n",
       "      <td>10.39</td>\n",
       "      <td>9.01</td>\n",
       "      <td>8.72</td>\n",
       "      <td>9.02</td>\n",
       "      <td>9.43</td>\n",
       "      <td>8.54</td>\n",
       "      <td>7.44</td>\n",
       "      <td>7.44</td>\n",
       "    </tr>\n",
       "    <tr>\n",
       "      <th>2</th>\n",
       "      <td>February</td>\n",
       "      <td>2.81</td>\n",
       "      <td>3.47</td>\n",
       "      <td>4.37</td>\n",
       "      <td>4.33</td>\n",
       "      <td>4.17</td>\n",
       "      <td>3.66</td>\n",
       "      <td>3.71</td>\n",
       "      <td>4.30</td>\n",
       "      <td>3.53</td>\n",
       "      <td>...</td>\n",
       "      <td>15.13</td>\n",
       "      <td>13.04</td>\n",
       "      <td>10.41</td>\n",
       "      <td>9.14</td>\n",
       "      <td>8.67</td>\n",
       "      <td>8.81</td>\n",
       "      <td>9.10</td>\n",
       "      <td>8.46</td>\n",
       "      <td>7.44</td>\n",
       "      <td>7.32</td>\n",
       "    </tr>\n",
       "    <tr>\n",
       "      <th>3</th>\n",
       "      <td>March</td>\n",
       "      <td>3.08</td>\n",
       "      <td>3.45</td>\n",
       "      <td>4.27</td>\n",
       "      <td>4.44</td>\n",
       "      <td>4.2</td>\n",
       "      <td>3.69</td>\n",
       "      <td>3.77</td>\n",
       "      <td>4.34</td>\n",
       "      <td>3.57</td>\n",
       "      <td>...</td>\n",
       "      <td>15.40</td>\n",
       "      <td>15.28</td>\n",
       "      <td>10.43</td>\n",
       "      <td>9.20</td>\n",
       "      <td>8.69</td>\n",
       "      <td>8.76</td>\n",
       "      <td>8.89</td>\n",
       "      <td>8.41</td>\n",
       "      <td>7.46</td>\n",
       "      <td>7.29</td>\n",
       "    </tr>\n",
       "    <tr>\n",
       "      <th>4</th>\n",
       "      <td>April</td>\n",
       "      <td>3.06</td>\n",
       "      <td>3.31</td>\n",
       "      <td>4.14</td>\n",
       "      <td>4.47</td>\n",
       "      <td>4.05</td>\n",
       "      <td>3.61</td>\n",
       "      <td>3.67</td>\n",
       "      <td>4.34</td>\n",
       "      <td>3.45</td>\n",
       "      <td>...</td>\n",
       "      <td>15.58</td>\n",
       "      <td>16.32</td>\n",
       "      <td>10.50</td>\n",
       "      <td>9.35</td>\n",
       "      <td>8.75</td>\n",
       "      <td>8.73</td>\n",
       "      <td>8.82</td>\n",
       "      <td>8.58</td>\n",
       "      <td>7.54</td>\n",
       "      <td>7.29</td>\n",
       "    </tr>\n",
       "    <tr>\n",
       "      <th>5</th>\n",
       "      <td>May</td>\n",
       "      <td>2.96</td>\n",
       "      <td>3.23</td>\n",
       "      <td>4.07</td>\n",
       "      <td>4.59</td>\n",
       "      <td>4.01</td>\n",
       "      <td>3.60</td>\n",
       "      <td>3.84</td>\n",
       "      <td>4.19</td>\n",
       "      <td>3.54</td>\n",
       "      <td>...</td>\n",
       "      <td>16.40</td>\n",
       "      <td>14.26</td>\n",
       "      <td>10.69</td>\n",
       "      <td>9.57</td>\n",
       "      <td>8.83</td>\n",
       "      <td>8.76</td>\n",
       "      <td>8.91</td>\n",
       "      <td>8.97</td>\n",
       "      <td>7.65</td>\n",
       "      <td>7.37</td>\n",
       "    </tr>\n",
       "  </tbody>\n",
       "</table>\n",
       "<p>5 rows × 51 columns</p>\n",
       "</div>"
      ],
      "text/plain": [
       "      month  2021  2020  2019  2018  2017  2016  2015  2014  2013  ...   1981  \\\n",
       "1   January  2.74  3.62  4.46  4.03  4.15  3.87  3.67  4.43  3.41  ...  14.90   \n",
       "2  February  2.81  3.47  4.37  4.33  4.17  3.66  3.71  4.30  3.53  ...  15.13   \n",
       "3     March  3.08  3.45  4.27  4.44   4.2  3.69  3.77  4.34  3.57  ...  15.40   \n",
       "4     April  3.06  3.31  4.14  4.47  4.05  3.61  3.67  4.34  3.45  ...  15.58   \n",
       "5       May  2.96  3.23  4.07  4.59  4.01  3.60  3.84  4.19  3.54  ...  16.40   \n",
       "\n",
       "    1980   1979  1978  1977  1976  1975  1974  1973  1972  \n",
       "1  12.88  10.39  9.01  8.72  9.02  9.43  8.54  7.44  7.44  \n",
       "2  13.04  10.41  9.14  8.67  8.81  9.10  8.46  7.44  7.32  \n",
       "3  15.28  10.43  9.20  8.69  8.76  8.89  8.41  7.46  7.29  \n",
       "4  16.32  10.50  9.35  8.75  8.73  8.82  8.58  7.54  7.29  \n",
       "5  14.26  10.69  9.57  8.83  8.76  8.91  8.97  7.65  7.37  \n",
       "\n",
       "[5 rows x 51 columns]"
      ]
     },
     "execution_count": 10,
     "metadata": {},
     "output_type": "execute_result"
    }
   ],
   "source": [
    "morts.head()"
   ]
  },
  {
   "cell_type": "markdown",
   "metadata": {},
   "source": [
    "### Melt the Mortgage Rate dataset\n",
    "\n",
    "Now that I have a clean DataFrame with only the information I need, I can melt the rows to create a dataset that I can analyze easier with Pandas."
   ]
  },
  {
   "cell_type": "code",
   "execution_count": 11,
   "metadata": {},
   "outputs": [],
   "source": [
    "morts_long = pd.melt(morts, id_vars=['month'], value_vars=[year for year in good_years])\n"
   ]
  },
  {
   "cell_type": "code",
   "execution_count": 12,
   "metadata": {},
   "outputs": [
    {
     "data": {
      "text/html": [
       "<div>\n",
       "<style scoped>\n",
       "    .dataframe tbody tr th:only-of-type {\n",
       "        vertical-align: middle;\n",
       "    }\n",
       "\n",
       "    .dataframe tbody tr th {\n",
       "        vertical-align: top;\n",
       "    }\n",
       "\n",
       "    .dataframe thead th {\n",
       "        text-align: right;\n",
       "    }\n",
       "</style>\n",
       "<table border=\"1\" class=\"dataframe\">\n",
       "  <thead>\n",
       "    <tr style=\"text-align: right;\">\n",
       "      <th></th>\n",
       "      <th>month</th>\n",
       "      <th>variable</th>\n",
       "      <th>value</th>\n",
       "    </tr>\n",
       "  </thead>\n",
       "  <tbody>\n",
       "    <tr>\n",
       "      <th>0</th>\n",
       "      <td>January</td>\n",
       "      <td>2021</td>\n",
       "      <td>2.74</td>\n",
       "    </tr>\n",
       "    <tr>\n",
       "      <th>1</th>\n",
       "      <td>February</td>\n",
       "      <td>2021</td>\n",
       "      <td>2.81</td>\n",
       "    </tr>\n",
       "    <tr>\n",
       "      <th>2</th>\n",
       "      <td>March</td>\n",
       "      <td>2021</td>\n",
       "      <td>3.08</td>\n",
       "    </tr>\n",
       "    <tr>\n",
       "      <th>3</th>\n",
       "      <td>April</td>\n",
       "      <td>2021</td>\n",
       "      <td>3.06</td>\n",
       "    </tr>\n",
       "    <tr>\n",
       "      <th>4</th>\n",
       "      <td>May</td>\n",
       "      <td>2021</td>\n",
       "      <td>2.96</td>\n",
       "    </tr>\n",
       "  </tbody>\n",
       "</table>\n",
       "</div>"
      ],
      "text/plain": [
       "      month variable value\n",
       "0   January     2021  2.74\n",
       "1  February     2021  2.81\n",
       "2     March     2021  3.08\n",
       "3     April     2021  3.06\n",
       "4       May     2021  2.96"
      ]
     },
     "execution_count": 12,
     "metadata": {},
     "output_type": "execute_result"
    }
   ],
   "source": [
    "morts_long.head()"
   ]
  },
  {
   "cell_type": "markdown",
   "metadata": {},
   "source": [
    "Next I combined the month and year columns, then converted them to datetime values."
   ]
  },
  {
   "cell_type": "code",
   "execution_count": 13,
   "metadata": {},
   "outputs": [],
   "source": [
    "morts_long['date'] = morts_long['month'] + ' ' + morts_long['variable']\n",
    "morts_long['date'] = pd.to_datetime(morts_long['date'])"
   ]
  },
  {
   "cell_type": "code",
   "execution_count": 14,
   "metadata": {},
   "outputs": [],
   "source": [
    "morts_long['value'] = morts_long['value'].astype(float)"
   ]
  },
  {
   "cell_type": "markdown",
   "metadata": {},
   "source": [
    "The DataFrame was ordered from 2022 to 1972, so I used the `sort_values()` method to order the DataFrame in ascending order."
   ]
  },
  {
   "cell_type": "code",
   "execution_count": 15,
   "metadata": {},
   "outputs": [],
   "source": [
    "morts_long = morts_long.sort_values('date')"
   ]
  },
  {
   "cell_type": "code",
   "execution_count": 16,
   "metadata": {},
   "outputs": [
    {
     "data": {
      "text/html": [
       "<div>\n",
       "<style scoped>\n",
       "    .dataframe tbody tr th:only-of-type {\n",
       "        vertical-align: middle;\n",
       "    }\n",
       "\n",
       "    .dataframe tbody tr th {\n",
       "        vertical-align: top;\n",
       "    }\n",
       "\n",
       "    .dataframe thead th {\n",
       "        text-align: right;\n",
       "    }\n",
       "</style>\n",
       "<table border=\"1\" class=\"dataframe\">\n",
       "  <thead>\n",
       "    <tr style=\"text-align: right;\">\n",
       "      <th></th>\n",
       "      <th>month</th>\n",
       "      <th>variable</th>\n",
       "      <th>value</th>\n",
       "      <th>date</th>\n",
       "    </tr>\n",
       "  </thead>\n",
       "  <tbody>\n",
       "    <tr>\n",
       "      <th>588</th>\n",
       "      <td>January</td>\n",
       "      <td>1972</td>\n",
       "      <td>7.44</td>\n",
       "      <td>1972-01-01</td>\n",
       "    </tr>\n",
       "    <tr>\n",
       "      <th>589</th>\n",
       "      <td>February</td>\n",
       "      <td>1972</td>\n",
       "      <td>7.32</td>\n",
       "      <td>1972-02-01</td>\n",
       "    </tr>\n",
       "    <tr>\n",
       "      <th>590</th>\n",
       "      <td>March</td>\n",
       "      <td>1972</td>\n",
       "      <td>7.29</td>\n",
       "      <td>1972-03-01</td>\n",
       "    </tr>\n",
       "    <tr>\n",
       "      <th>591</th>\n",
       "      <td>April</td>\n",
       "      <td>1972</td>\n",
       "      <td>7.29</td>\n",
       "      <td>1972-04-01</td>\n",
       "    </tr>\n",
       "    <tr>\n",
       "      <th>592</th>\n",
       "      <td>May</td>\n",
       "      <td>1972</td>\n",
       "      <td>7.37</td>\n",
       "      <td>1972-05-01</td>\n",
       "    </tr>\n",
       "  </tbody>\n",
       "</table>\n",
       "</div>"
      ],
      "text/plain": [
       "        month variable  value       date\n",
       "588   January     1972   7.44 1972-01-01\n",
       "589  February     1972   7.32 1972-02-01\n",
       "590     March     1972   7.29 1972-03-01\n",
       "591     April     1972   7.29 1972-04-01\n",
       "592       May     1972   7.37 1972-05-01"
      ]
     },
     "execution_count": 16,
     "metadata": {},
     "output_type": "execute_result"
    }
   ],
   "source": [
    "morts_long.head()"
   ]
  },
  {
   "cell_type": "markdown",
   "metadata": {},
   "source": [
    "### Create Pivot Table for Mortgage Rates and Visualize "
   ]
  },
  {
   "cell_type": "code",
   "execution_count": 17,
   "metadata": {},
   "outputs": [],
   "source": [
    "mort_rate_piv = morts_long.pivot_table(index='date', values='value')"
   ]
  },
  {
   "cell_type": "code",
   "execution_count": 18,
   "metadata": {},
   "outputs": [
    {
     "data": {
      "text/html": [
       "<div>\n",
       "<style scoped>\n",
       "    .dataframe tbody tr th:only-of-type {\n",
       "        vertical-align: middle;\n",
       "    }\n",
       "\n",
       "    .dataframe tbody tr th {\n",
       "        vertical-align: top;\n",
       "    }\n",
       "\n",
       "    .dataframe thead th {\n",
       "        text-align: right;\n",
       "    }\n",
       "</style>\n",
       "<table border=\"1\" class=\"dataframe\">\n",
       "  <thead>\n",
       "    <tr style=\"text-align: right;\">\n",
       "      <th></th>\n",
       "      <th>value</th>\n",
       "    </tr>\n",
       "    <tr>\n",
       "      <th>date</th>\n",
       "      <th></th>\n",
       "    </tr>\n",
       "  </thead>\n",
       "  <tbody>\n",
       "    <tr>\n",
       "      <th>1972-01-01</th>\n",
       "      <td>7.44</td>\n",
       "    </tr>\n",
       "    <tr>\n",
       "      <th>1972-02-01</th>\n",
       "      <td>7.32</td>\n",
       "    </tr>\n",
       "    <tr>\n",
       "      <th>1972-03-01</th>\n",
       "      <td>7.29</td>\n",
       "    </tr>\n",
       "    <tr>\n",
       "      <th>1972-04-01</th>\n",
       "      <td>7.29</td>\n",
       "    </tr>\n",
       "    <tr>\n",
       "      <th>1972-05-01</th>\n",
       "      <td>7.37</td>\n",
       "    </tr>\n",
       "  </tbody>\n",
       "</table>\n",
       "</div>"
      ],
      "text/plain": [
       "            value\n",
       "date             \n",
       "1972-01-01   7.44\n",
       "1972-02-01   7.32\n",
       "1972-03-01   7.29\n",
       "1972-04-01   7.29\n",
       "1972-05-01   7.37"
      ]
     },
     "execution_count": 18,
     "metadata": {},
     "output_type": "execute_result"
    }
   ],
   "source": [
    "mort_rate_piv.head()"
   ]
  },
  {
   "cell_type": "code",
   "execution_count": 19,
   "metadata": {},
   "outputs": [
    {
     "data": {
      "image/png": "[encoded data removed]",
      "text/plain": [
       "<Figure size 432x288 with 1 Axes>"
      ]
     },
     "metadata": {
      "needs_background": "light"
     },
     "output_type": "display_data"
    }
   ],
   "source": [
    "import matplotlib.pyplot as plt\n",
    "%matplotlib inline\n",
    "\n",
    "mort_rate_piv.plot(kind='line')\n",
    "plt.show()"
   ]
  },
  {
   "cell_type": "markdown",
   "metadata": {},
   "source": [
    "## Read in the Fed Prime Interest Rate from website"
   ]
  },
  {
   "cell_type": "markdown",
   "metadata": {},
   "source": [
    "<div>\n",
    "<img src=fedprimerate.png width=\"500\"/>\n",
    "</div>"
   ]
  },
  {
   "cell_type": "code",
   "execution_count": 20,
   "metadata": {},
   "outputs": [],
   "source": [
    "fed_url = \"https://www.jpmorganchase.com/about/our-business/historical-prime-rate\"\n",
    "fed_request = requests.get(fed_url)\n",
    "\n",
    "with open(\"fedrates.html\", \"w+\", encoding=\"utf-8\") as fed_f:\n",
    "    fed_f.write(fed_request.text)"
   ]
  },
  {
   "cell_type": "code",
   "execution_count": 21,
   "metadata": {},
   "outputs": [],
   "source": [
    "with open(\"fedrates.html\", encoding=\"utf-8\") as fed_f:\n",
    "    fed_page = fed_f.read()"
   ]
  },
  {
   "cell_type": "code",
   "execution_count": 22,
   "metadata": {},
   "outputs": [],
   "source": [
    "fed_soup = BeautifulSoup(fed_page, \"html.parser\")\n",
    "fed_rate_tables = fed_soup.find(class_=\"col-12 col-12-narrow\")\n",
    "\n",
    "\n",
    "\n"
   ]
  },
  {
   "cell_type": "code",
   "execution_count": 23,
   "metadata": {},
   "outputs": [],
   "source": [
    "fed_rate_tables = pd.read_html(str(fed_rate_tables))"
   ]
  },
  {
   "cell_type": "code",
   "execution_count": 24,
   "metadata": {},
   "outputs": [
    {
     "data": {
      "text/html": [
       "<div>\n",
       "<style scoped>\n",
       "    .dataframe tbody tr th:only-of-type {\n",
       "        vertical-align: middle;\n",
       "    }\n",
       "\n",
       "    .dataframe tbody tr th {\n",
       "        vertical-align: top;\n",
       "    }\n",
       "\n",
       "    .dataframe thead th {\n",
       "        text-align: right;\n",
       "    }\n",
       "</style>\n",
       "<table border=\"1\" class=\"dataframe\">\n",
       "  <thead>\n",
       "    <tr style=\"text-align: right;\">\n",
       "      <th></th>\n",
       "      <th>Effective Date</th>\n",
       "      <th>Rate</th>\n",
       "    </tr>\n",
       "  </thead>\n",
       "  <tbody>\n",
       "    <tr>\n",
       "      <th>0</th>\n",
       "      <td>3/16/2020</td>\n",
       "      <td>3.25%</td>\n",
       "    </tr>\n",
       "    <tr>\n",
       "      <th>1</th>\n",
       "      <td>3/4/2020</td>\n",
       "      <td>4.25%</td>\n",
       "    </tr>\n",
       "    <tr>\n",
       "      <th>2</th>\n",
       "      <td>10/31/2019</td>\n",
       "      <td>4.75%</td>\n",
       "    </tr>\n",
       "    <tr>\n",
       "      <th>3</th>\n",
       "      <td>9/19/2019</td>\n",
       "      <td>5.00%</td>\n",
       "    </tr>\n",
       "    <tr>\n",
       "      <th>4</th>\n",
       "      <td>8/1/2019</td>\n",
       "      <td>5.25%</td>\n",
       "    </tr>\n",
       "  </tbody>\n",
       "</table>\n",
       "</div>"
      ],
      "text/plain": [
       "  Effective Date   Rate\n",
       "0      3/16/2020  3.25%\n",
       "1       3/4/2020  4.25%\n",
       "2     10/31/2019  4.75%\n",
       "3      9/19/2019  5.00%\n",
       "4       8/1/2019  5.25%"
      ]
     },
     "execution_count": 24,
     "metadata": {},
     "output_type": "execute_result"
    }
   ],
   "source": [
    "fed_rate_tables[0][:5]"
   ]
  },
  {
   "cell_type": "markdown",
   "metadata": {},
   "source": [
    "Since this table does not contain information I don't need, I can just concat the information and skip the merge, cleanup, then melt procedure I needed with the mortgage data"
   ]
  },
  {
   "cell_type": "code",
   "execution_count": 25,
   "metadata": {},
   "outputs": [],
   "source": [
    "feds = pd.concat(fed_rate_tables, ignore_index=True)"
   ]
  },
  {
   "cell_type": "code",
   "execution_count": 26,
   "metadata": {},
   "outputs": [
    {
     "data": {
      "text/html": [
       "<div>\n",
       "<style scoped>\n",
       "    .dataframe tbody tr th:only-of-type {\n",
       "        vertical-align: middle;\n",
       "    }\n",
       "\n",
       "    .dataframe tbody tr th {\n",
       "        vertical-align: top;\n",
       "    }\n",
       "\n",
       "    .dataframe thead th {\n",
       "        text-align: right;\n",
       "    }\n",
       "</style>\n",
       "<table border=\"1\" class=\"dataframe\">\n",
       "  <thead>\n",
       "    <tr style=\"text-align: right;\">\n",
       "      <th></th>\n",
       "      <th>Effective Date</th>\n",
       "      <th>Rate</th>\n",
       "    </tr>\n",
       "  </thead>\n",
       "  <tbody>\n",
       "    <tr>\n",
       "      <th>0</th>\n",
       "      <td>3/16/2020</td>\n",
       "      <td>3.25%</td>\n",
       "    </tr>\n",
       "    <tr>\n",
       "      <th>1</th>\n",
       "      <td>3/4/2020</td>\n",
       "      <td>4.25%</td>\n",
       "    </tr>\n",
       "    <tr>\n",
       "      <th>2</th>\n",
       "      <td>10/31/2019</td>\n",
       "      <td>4.75%</td>\n",
       "    </tr>\n",
       "    <tr>\n",
       "      <th>3</th>\n",
       "      <td>9/19/2019</td>\n",
       "      <td>5.00%</td>\n",
       "    </tr>\n",
       "    <tr>\n",
       "      <th>4</th>\n",
       "      <td>8/1/2019</td>\n",
       "      <td>5.25%</td>\n",
       "    </tr>\n",
       "  </tbody>\n",
       "</table>\n",
       "</div>"
      ],
      "text/plain": [
       "  Effective Date   Rate\n",
       "0      3/16/2020  3.25%\n",
       "1       3/4/2020  4.25%\n",
       "2     10/31/2019  4.75%\n",
       "3      9/19/2019  5.00%\n",
       "4       8/1/2019  5.25%"
      ]
     },
     "execution_count": 26,
     "metadata": {},
     "output_type": "execute_result"
    }
   ],
   "source": [
    "feds.head()"
   ]
  },
  {
   "cell_type": "markdown",
   "metadata": {},
   "source": [
    "### Clean up the Fed Rate dataset\n",
    "this is an easier cleanup than the mortgages, all I need to do is:\n",
    "- drop the `%` and turn the Rate column into a float datatype\n",
    "- turn the Effective Date column into a datetime datatype "
   ]
  },
  {
   "cell_type": "code",
   "execution_count": 27,
   "metadata": {},
   "outputs": [],
   "source": [
    "feds[\"Effective Date\"] = pd.to_datetime(feds[\"Effective Date\"])\n",
    "feds[\"Rate\"] = feds[\"Rate\"].str[:-1].astype(float)"
   ]
  },
  {
   "cell_type": "code",
   "execution_count": 28,
   "metadata": {},
   "outputs": [
    {
     "data": {
      "text/html": [
       "<div>\n",
       "<style scoped>\n",
       "    .dataframe tbody tr th:only-of-type {\n",
       "        vertical-align: middle;\n",
       "    }\n",
       "\n",
       "    .dataframe tbody tr th {\n",
       "        vertical-align: top;\n",
       "    }\n",
       "\n",
       "    .dataframe thead th {\n",
       "        text-align: right;\n",
       "    }\n",
       "</style>\n",
       "<table border=\"1\" class=\"dataframe\">\n",
       "  <thead>\n",
       "    <tr style=\"text-align: right;\">\n",
       "      <th></th>\n",
       "      <th>Effective Date</th>\n",
       "      <th>Rate</th>\n",
       "    </tr>\n",
       "  </thead>\n",
       "  <tbody>\n",
       "    <tr>\n",
       "      <th>0</th>\n",
       "      <td>2020-03-16</td>\n",
       "      <td>3.25</td>\n",
       "    </tr>\n",
       "    <tr>\n",
       "      <th>1</th>\n",
       "      <td>2020-03-04</td>\n",
       "      <td>4.25</td>\n",
       "    </tr>\n",
       "    <tr>\n",
       "      <th>2</th>\n",
       "      <td>2019-10-31</td>\n",
       "      <td>4.75</td>\n",
       "    </tr>\n",
       "    <tr>\n",
       "      <th>3</th>\n",
       "      <td>2019-09-19</td>\n",
       "      <td>5.00</td>\n",
       "    </tr>\n",
       "    <tr>\n",
       "      <th>4</th>\n",
       "      <td>2019-08-01</td>\n",
       "      <td>5.25</td>\n",
       "    </tr>\n",
       "  </tbody>\n",
       "</table>\n",
       "</div>"
      ],
      "text/plain": [
       "  Effective Date  Rate\n",
       "0     2020-03-16  3.25\n",
       "1     2020-03-04  4.25\n",
       "2     2019-10-31  4.75\n",
       "3     2019-09-19  5.00\n",
       "4     2019-08-01  5.25"
      ]
     },
     "execution_count": 28,
     "metadata": {},
     "output_type": "execute_result"
    }
   ],
   "source": [
    "pd.set_option('max_rows', 100)\n",
    "feds.head()"
   ]
  },
  {
   "cell_type": "markdown",
   "metadata": {},
   "source": [
    "### Create Pivot table for Fed Rate and Visualize"
   ]
  },
  {
   "cell_type": "code",
   "execution_count": 29,
   "metadata": {},
   "outputs": [],
   "source": [
    "fed_piv = feds.pivot_table(index=\"Effective Date\", values=\"Rate\")"
   ]
  },
  {
   "cell_type": "code",
   "execution_count": 30,
   "metadata": {},
   "outputs": [
    {
     "data": {
      "image/png": "[encoded data removed]",
      "text/plain": [
       "<Figure size 432x288 with 1 Axes>"
      ]
     },
     "metadata": {
      "needs_background": "light"
     },
     "output_type": "display_data"
    }
   ],
   "source": [
    "fed_piv.plot(kind='line')\n",
    "plt.show()"
   ]
  },
  {
   "cell_type": "markdown",
   "metadata": {},
   "source": [
    "## Read in Inflation Data from website"
   ]
  },
  {
   "cell_type": "markdown",
   "metadata": {},
   "source": [
    "<div>\n",
    "<img src=inflation.png width=\"500\"/>\n",
    "</div>"
   ]
  },
  {
   "cell_type": "code",
   "execution_count": 31,
   "metadata": {},
   "outputs": [],
   "source": [
    "inflate_url = \"https://www.usinflationcalculator.com/inflation/historical-inflation-rates/\"\n",
    "inflate_request = requests.get(inflate_url)\n",
    "\n",
    "with open(\"inflation.html\", \"w+\", encoding=\"utf-8\") as inflate_f:\n",
    "    inflate_f.write(inflate_request.text)"
   ]
  },
  {
   "cell_type": "code",
   "execution_count": 32,
   "metadata": {},
   "outputs": [],
   "source": [
    "with open(\"inflation.html\", encoding=\"utf-8\") as f:\n",
    "    inflate_page = f.read()"
   ]
  },
  {
   "cell_type": "code",
   "execution_count": 33,
   "metadata": {},
   "outputs": [],
   "source": [
    "inflate_soup = BeautifulSoup(inflate_page, \"html.parser\")\n",
    "inflation_table = inflate_soup.find('table')"
   ]
  },
  {
   "cell_type": "markdown",
   "metadata": {},
   "source": [
    "### Create Inflation DataFrame"
   ]
  },
  {
   "cell_type": "code",
   "execution_count": 34,
   "metadata": {},
   "outputs": [],
   "source": [
    "import pandas as pd\n",
    "\n",
    "inflate_table = pd.read_html(str(inflation_table))[0]"
   ]
  },
  {
   "cell_type": "code",
   "execution_count": 35,
   "metadata": {},
   "outputs": [],
   "source": [
    "inflate_table = inflate_table.drop(108, axis=0)\n",
    "inflate_72 = inflate_table.iloc[58:,:]"
   ]
  },
  {
   "cell_type": "code",
   "execution_count": 36,
   "metadata": {},
   "outputs": [
    {
     "data": {
      "text/html": [
       "<div>\n",
       "<style scoped>\n",
       "    .dataframe tbody tr th:only-of-type {\n",
       "        vertical-align: middle;\n",
       "    }\n",
       "\n",
       "    .dataframe tbody tr th {\n",
       "        vertical-align: top;\n",
       "    }\n",
       "\n",
       "    .dataframe thead th {\n",
       "        text-align: right;\n",
       "    }\n",
       "</style>\n",
       "<table border=\"1\" class=\"dataframe\">\n",
       "  <thead>\n",
       "    <tr style=\"text-align: right;\">\n",
       "      <th></th>\n",
       "      <th>Year</th>\n",
       "      <th>Jan</th>\n",
       "      <th>Feb</th>\n",
       "      <th>Mar</th>\n",
       "      <th>Apr</th>\n",
       "      <th>May</th>\n",
       "      <th>Jun</th>\n",
       "      <th>Jul</th>\n",
       "      <th>Aug</th>\n",
       "      <th>Sep</th>\n",
       "      <th>Oct</th>\n",
       "      <th>Nov</th>\n",
       "      <th>Dec</th>\n",
       "      <th>Ave</th>\n",
       "    </tr>\n",
       "  </thead>\n",
       "  <tbody>\n",
       "    <tr>\n",
       "      <th>58</th>\n",
       "      <td>1972</td>\n",
       "      <td>3.3</td>\n",
       "      <td>3.5</td>\n",
       "      <td>3.5</td>\n",
       "      <td>3.5</td>\n",
       "      <td>3.2</td>\n",
       "      <td>2.7</td>\n",
       "      <td>2.9</td>\n",
       "      <td>2.9</td>\n",
       "      <td>3.2</td>\n",
       "      <td>3.4</td>\n",
       "      <td>3.7</td>\n",
       "      <td>3.4</td>\n",
       "      <td>3.2</td>\n",
       "    </tr>\n",
       "    <tr>\n",
       "      <th>59</th>\n",
       "      <td>1973</td>\n",
       "      <td>3.6</td>\n",
       "      <td>3.9</td>\n",
       "      <td>4.6</td>\n",
       "      <td>5.1</td>\n",
       "      <td>5.5</td>\n",
       "      <td>6.0</td>\n",
       "      <td>5.7</td>\n",
       "      <td>7.4</td>\n",
       "      <td>7.4</td>\n",
       "      <td>7.8</td>\n",
       "      <td>8.3</td>\n",
       "      <td>8.7</td>\n",
       "      <td>6.2</td>\n",
       "    </tr>\n",
       "    <tr>\n",
       "      <th>60</th>\n",
       "      <td>1974</td>\n",
       "      <td>9.4</td>\n",
       "      <td>10.0</td>\n",
       "      <td>10.4</td>\n",
       "      <td>10.1</td>\n",
       "      <td>10.7</td>\n",
       "      <td>10.9</td>\n",
       "      <td>11.5</td>\n",
       "      <td>10.9</td>\n",
       "      <td>11.9</td>\n",
       "      <td>12.1</td>\n",
       "      <td>12.2</td>\n",
       "      <td>12.3</td>\n",
       "      <td>11.0</td>\n",
       "    </tr>\n",
       "    <tr>\n",
       "      <th>61</th>\n",
       "      <td>1975</td>\n",
       "      <td>11.8</td>\n",
       "      <td>11.2</td>\n",
       "      <td>10.3</td>\n",
       "      <td>10.2</td>\n",
       "      <td>9.5</td>\n",
       "      <td>9.4</td>\n",
       "      <td>9.7</td>\n",
       "      <td>8.6</td>\n",
       "      <td>7.9</td>\n",
       "      <td>7.4</td>\n",
       "      <td>7.4</td>\n",
       "      <td>6.9</td>\n",
       "      <td>9.1</td>\n",
       "    </tr>\n",
       "    <tr>\n",
       "      <th>62</th>\n",
       "      <td>1976</td>\n",
       "      <td>6.7</td>\n",
       "      <td>6.3</td>\n",
       "      <td>6.1</td>\n",
       "      <td>6.0</td>\n",
       "      <td>6.2</td>\n",
       "      <td>6.0</td>\n",
       "      <td>5.4</td>\n",
       "      <td>5.7</td>\n",
       "      <td>5.5</td>\n",
       "      <td>5.5</td>\n",
       "      <td>4.9</td>\n",
       "      <td>4.9</td>\n",
       "      <td>5.8</td>\n",
       "    </tr>\n",
       "  </tbody>\n",
       "</table>\n",
       "</div>"
      ],
      "text/plain": [
       "    Year   Jan   Feb   Mar   Apr   May   Jun   Jul   Aug   Sep   Oct   Nov  \\\n",
       "58  1972   3.3   3.5   3.5   3.5   3.2   2.7   2.9   2.9   3.2   3.4   3.7   \n",
       "59  1973   3.6   3.9   4.6   5.1   5.5   6.0   5.7   7.4   7.4   7.8   8.3   \n",
       "60  1974   9.4  10.0  10.4  10.1  10.7  10.9  11.5  10.9  11.9  12.1  12.2   \n",
       "61  1975  11.8  11.2  10.3  10.2   9.5   9.4   9.7   8.6   7.9   7.4   7.4   \n",
       "62  1976   6.7   6.3   6.1   6.0   6.2   6.0   5.4   5.7   5.5   5.5   4.9   \n",
       "\n",
       "     Dec   Ave  \n",
       "58   3.4   3.2  \n",
       "59   8.7   6.2  \n",
       "60  12.3  11.0  \n",
       "61   6.9   9.1  \n",
       "62   4.9   5.8  "
      ]
     },
     "execution_count": 36,
     "metadata": {},
     "output_type": "execute_result"
    }
   ],
   "source": [
    "inflate_72.head()"
   ]
  },
  {
   "cell_type": "markdown",
   "metadata": {},
   "source": [
    "### Clean up Inflation DataFrame"
   ]
  },
  {
   "cell_type": "code",
   "execution_count": 37,
   "metadata": {},
   "outputs": [],
   "source": [
    "inflation = inflate_72.swapaxes('index', 'columns')"
   ]
  },
  {
   "cell_type": "code",
   "execution_count": 38,
   "metadata": {},
   "outputs": [
    {
     "data": {
      "text/html": [
       "<div>\n",
       "<style scoped>\n",
       "    .dataframe tbody tr th:only-of-type {\n",
       "        vertical-align: middle;\n",
       "    }\n",
       "\n",
       "    .dataframe tbody tr th {\n",
       "        vertical-align: top;\n",
       "    }\n",
       "\n",
       "    .dataframe thead th {\n",
       "        text-align: right;\n",
       "    }\n",
       "</style>\n",
       "<table border=\"1\" class=\"dataframe\">\n",
       "  <thead>\n",
       "    <tr style=\"text-align: right;\">\n",
       "      <th></th>\n",
       "      <th>58</th>\n",
       "      <th>59</th>\n",
       "      <th>60</th>\n",
       "      <th>61</th>\n",
       "      <th>62</th>\n",
       "      <th>63</th>\n",
       "      <th>64</th>\n",
       "      <th>65</th>\n",
       "      <th>66</th>\n",
       "      <th>67</th>\n",
       "      <th>...</th>\n",
       "      <th>98</th>\n",
       "      <th>99</th>\n",
       "      <th>100</th>\n",
       "      <th>101</th>\n",
       "      <th>102</th>\n",
       "      <th>103</th>\n",
       "      <th>104</th>\n",
       "      <th>105</th>\n",
       "      <th>106</th>\n",
       "      <th>107</th>\n",
       "    </tr>\n",
       "  </thead>\n",
       "  <tbody>\n",
       "    <tr>\n",
       "      <th>Year</th>\n",
       "      <td>1972</td>\n",
       "      <td>1973</td>\n",
       "      <td>1974</td>\n",
       "      <td>1975</td>\n",
       "      <td>1976</td>\n",
       "      <td>1977</td>\n",
       "      <td>1978</td>\n",
       "      <td>1979</td>\n",
       "      <td>1980</td>\n",
       "      <td>1981</td>\n",
       "      <td>...</td>\n",
       "      <td>2012</td>\n",
       "      <td>2013</td>\n",
       "      <td>2014</td>\n",
       "      <td>2015</td>\n",
       "      <td>2016</td>\n",
       "      <td>2017</td>\n",
       "      <td>2018</td>\n",
       "      <td>2019</td>\n",
       "      <td>2020</td>\n",
       "      <td>2021</td>\n",
       "    </tr>\n",
       "    <tr>\n",
       "      <th>Jan</th>\n",
       "      <td>3.3</td>\n",
       "      <td>3.6</td>\n",
       "      <td>9.4</td>\n",
       "      <td>11.8</td>\n",
       "      <td>6.7</td>\n",
       "      <td>5.2</td>\n",
       "      <td>6.8</td>\n",
       "      <td>9.3</td>\n",
       "      <td>13.9</td>\n",
       "      <td>11.8</td>\n",
       "      <td>...</td>\n",
       "      <td>2.9</td>\n",
       "      <td>1.6</td>\n",
       "      <td>1.6</td>\n",
       "      <td>-0.1</td>\n",
       "      <td>1.4</td>\n",
       "      <td>2.5</td>\n",
       "      <td>2.1</td>\n",
       "      <td>1.6</td>\n",
       "      <td>2.5</td>\n",
       "      <td>1.4</td>\n",
       "    </tr>\n",
       "    <tr>\n",
       "      <th>Feb</th>\n",
       "      <td>3.5</td>\n",
       "      <td>3.9</td>\n",
       "      <td>10.0</td>\n",
       "      <td>11.2</td>\n",
       "      <td>6.3</td>\n",
       "      <td>5.9</td>\n",
       "      <td>6.4</td>\n",
       "      <td>9.9</td>\n",
       "      <td>14.2</td>\n",
       "      <td>11.4</td>\n",
       "      <td>...</td>\n",
       "      <td>2.9</td>\n",
       "      <td>2.0</td>\n",
       "      <td>1.1</td>\n",
       "      <td>0.0</td>\n",
       "      <td>1.0</td>\n",
       "      <td>2.7</td>\n",
       "      <td>2.2</td>\n",
       "      <td>1.5</td>\n",
       "      <td>2.3</td>\n",
       "      <td>1.7</td>\n",
       "    </tr>\n",
       "    <tr>\n",
       "      <th>Mar</th>\n",
       "      <td>3.5</td>\n",
       "      <td>4.6</td>\n",
       "      <td>10.4</td>\n",
       "      <td>10.3</td>\n",
       "      <td>6.1</td>\n",
       "      <td>6.4</td>\n",
       "      <td>6.6</td>\n",
       "      <td>10.1</td>\n",
       "      <td>14.8</td>\n",
       "      <td>10.5</td>\n",
       "      <td>...</td>\n",
       "      <td>2.7</td>\n",
       "      <td>1.5</td>\n",
       "      <td>1.5</td>\n",
       "      <td>-0.1</td>\n",
       "      <td>0.9</td>\n",
       "      <td>2.4</td>\n",
       "      <td>2.4</td>\n",
       "      <td>1.9</td>\n",
       "      <td>1.5</td>\n",
       "      <td>2.6</td>\n",
       "    </tr>\n",
       "    <tr>\n",
       "      <th>Apr</th>\n",
       "      <td>3.5</td>\n",
       "      <td>5.1</td>\n",
       "      <td>10.1</td>\n",
       "      <td>10.2</td>\n",
       "      <td>6.0</td>\n",
       "      <td>7.0</td>\n",
       "      <td>6.5</td>\n",
       "      <td>10.5</td>\n",
       "      <td>14.7</td>\n",
       "      <td>10.0</td>\n",
       "      <td>...</td>\n",
       "      <td>2.3</td>\n",
       "      <td>1.1</td>\n",
       "      <td>2.0</td>\n",
       "      <td>-0.2</td>\n",
       "      <td>1.1</td>\n",
       "      <td>2.2</td>\n",
       "      <td>2.5</td>\n",
       "      <td>2.0</td>\n",
       "      <td>0.3</td>\n",
       "      <td>4.2</td>\n",
       "    </tr>\n",
       "  </tbody>\n",
       "</table>\n",
       "<p>5 rows × 50 columns</p>\n",
       "</div>"
      ],
      "text/plain": [
       "       58    59    60    61    62    63    64    65    66    67   ...   98   \\\n",
       "Year  1972  1973  1974  1975  1976  1977  1978  1979  1980  1981  ...  2012   \n",
       "Jan    3.3   3.6   9.4  11.8   6.7   5.2   6.8   9.3  13.9  11.8  ...   2.9   \n",
       "Feb    3.5   3.9  10.0  11.2   6.3   5.9   6.4   9.9  14.2  11.4  ...   2.9   \n",
       "Mar    3.5   4.6  10.4  10.3   6.1   6.4   6.6  10.1  14.8  10.5  ...   2.7   \n",
       "Apr    3.5   5.1  10.1  10.2   6.0   7.0   6.5  10.5  14.7  10.0  ...   2.3   \n",
       "\n",
       "       99    100   101   102   103   104   105   106   107  \n",
       "Year  2013  2014  2015  2016  2017  2018  2019  2020  2021  \n",
       "Jan    1.6   1.6  -0.1   1.4   2.5   2.1   1.6   2.5   1.4  \n",
       "Feb    2.0   1.1   0.0   1.0   2.7   2.2   1.5   2.3   1.7  \n",
       "Mar    1.5   1.5  -0.1   0.9   2.4   2.4   1.9   1.5   2.6  \n",
       "Apr    1.1   2.0  -0.2   1.1   2.2   2.5   2.0   0.3   4.2  \n",
       "\n",
       "[5 rows x 50 columns]"
      ]
     },
     "execution_count": 38,
     "metadata": {},
     "output_type": "execute_result"
    }
   ],
   "source": [
    "inflation.head()"
   ]
  },
  {
   "cell_type": "code",
   "execution_count": 39,
   "metadata": {},
   "outputs": [],
   "source": [
    "years = list(range(1972, 2022))\n",
    "inflation = inflation.set_axis(years, axis=1, inplace=False)\n",
    "inflation = inflation.drop(['Year', 'Ave'])"
   ]
  },
  {
   "cell_type": "code",
   "execution_count": 40,
   "metadata": {},
   "outputs": [
    {
     "data": {
      "text/html": [
       "<div>\n",
       "<style scoped>\n",
       "    .dataframe tbody tr th:only-of-type {\n",
       "        vertical-align: middle;\n",
       "    }\n",
       "\n",
       "    .dataframe tbody tr th {\n",
       "        vertical-align: top;\n",
       "    }\n",
       "\n",
       "    .dataframe thead th {\n",
       "        text-align: right;\n",
       "    }\n",
       "</style>\n",
       "<table border=\"1\" class=\"dataframe\">\n",
       "  <thead>\n",
       "    <tr style=\"text-align: right;\">\n",
       "      <th></th>\n",
       "      <th>1972</th>\n",
       "      <th>1973</th>\n",
       "      <th>1974</th>\n",
       "      <th>1975</th>\n",
       "      <th>1976</th>\n",
       "      <th>1977</th>\n",
       "      <th>1978</th>\n",
       "      <th>1979</th>\n",
       "      <th>1980</th>\n",
       "      <th>1981</th>\n",
       "      <th>...</th>\n",
       "      <th>2012</th>\n",
       "      <th>2013</th>\n",
       "      <th>2014</th>\n",
       "      <th>2015</th>\n",
       "      <th>2016</th>\n",
       "      <th>2017</th>\n",
       "      <th>2018</th>\n",
       "      <th>2019</th>\n",
       "      <th>2020</th>\n",
       "      <th>2021</th>\n",
       "    </tr>\n",
       "  </thead>\n",
       "  <tbody>\n",
       "    <tr>\n",
       "      <th>Jan</th>\n",
       "      <td>3.3</td>\n",
       "      <td>3.6</td>\n",
       "      <td>9.4</td>\n",
       "      <td>11.8</td>\n",
       "      <td>6.7</td>\n",
       "      <td>5.2</td>\n",
       "      <td>6.8</td>\n",
       "      <td>9.3</td>\n",
       "      <td>13.9</td>\n",
       "      <td>11.8</td>\n",
       "      <td>...</td>\n",
       "      <td>2.9</td>\n",
       "      <td>1.6</td>\n",
       "      <td>1.6</td>\n",
       "      <td>-0.1</td>\n",
       "      <td>1.4</td>\n",
       "      <td>2.5</td>\n",
       "      <td>2.1</td>\n",
       "      <td>1.6</td>\n",
       "      <td>2.5</td>\n",
       "      <td>1.4</td>\n",
       "    </tr>\n",
       "    <tr>\n",
       "      <th>Feb</th>\n",
       "      <td>3.5</td>\n",
       "      <td>3.9</td>\n",
       "      <td>10.0</td>\n",
       "      <td>11.2</td>\n",
       "      <td>6.3</td>\n",
       "      <td>5.9</td>\n",
       "      <td>6.4</td>\n",
       "      <td>9.9</td>\n",
       "      <td>14.2</td>\n",
       "      <td>11.4</td>\n",
       "      <td>...</td>\n",
       "      <td>2.9</td>\n",
       "      <td>2.0</td>\n",
       "      <td>1.1</td>\n",
       "      <td>0.0</td>\n",
       "      <td>1.0</td>\n",
       "      <td>2.7</td>\n",
       "      <td>2.2</td>\n",
       "      <td>1.5</td>\n",
       "      <td>2.3</td>\n",
       "      <td>1.7</td>\n",
       "    </tr>\n",
       "    <tr>\n",
       "      <th>Mar</th>\n",
       "      <td>3.5</td>\n",
       "      <td>4.6</td>\n",
       "      <td>10.4</td>\n",
       "      <td>10.3</td>\n",
       "      <td>6.1</td>\n",
       "      <td>6.4</td>\n",
       "      <td>6.6</td>\n",
       "      <td>10.1</td>\n",
       "      <td>14.8</td>\n",
       "      <td>10.5</td>\n",
       "      <td>...</td>\n",
       "      <td>2.7</td>\n",
       "      <td>1.5</td>\n",
       "      <td>1.5</td>\n",
       "      <td>-0.1</td>\n",
       "      <td>0.9</td>\n",
       "      <td>2.4</td>\n",
       "      <td>2.4</td>\n",
       "      <td>1.9</td>\n",
       "      <td>1.5</td>\n",
       "      <td>2.6</td>\n",
       "    </tr>\n",
       "    <tr>\n",
       "      <th>Apr</th>\n",
       "      <td>3.5</td>\n",
       "      <td>5.1</td>\n",
       "      <td>10.1</td>\n",
       "      <td>10.2</td>\n",
       "      <td>6.0</td>\n",
       "      <td>7.0</td>\n",
       "      <td>6.5</td>\n",
       "      <td>10.5</td>\n",
       "      <td>14.7</td>\n",
       "      <td>10.0</td>\n",
       "      <td>...</td>\n",
       "      <td>2.3</td>\n",
       "      <td>1.1</td>\n",
       "      <td>2.0</td>\n",
       "      <td>-0.2</td>\n",
       "      <td>1.1</td>\n",
       "      <td>2.2</td>\n",
       "      <td>2.5</td>\n",
       "      <td>2.0</td>\n",
       "      <td>0.3</td>\n",
       "      <td>4.2</td>\n",
       "    </tr>\n",
       "    <tr>\n",
       "      <th>May</th>\n",
       "      <td>3.2</td>\n",
       "      <td>5.5</td>\n",
       "      <td>10.7</td>\n",
       "      <td>9.5</td>\n",
       "      <td>6.2</td>\n",
       "      <td>6.7</td>\n",
       "      <td>7.0</td>\n",
       "      <td>10.9</td>\n",
       "      <td>14.4</td>\n",
       "      <td>9.8</td>\n",
       "      <td>...</td>\n",
       "      <td>1.7</td>\n",
       "      <td>1.4</td>\n",
       "      <td>2.1</td>\n",
       "      <td>0.0</td>\n",
       "      <td>1.0</td>\n",
       "      <td>1.9</td>\n",
       "      <td>2.8</td>\n",
       "      <td>1.8</td>\n",
       "      <td>0.1</td>\n",
       "      <td>5.0</td>\n",
       "    </tr>\n",
       "  </tbody>\n",
       "</table>\n",
       "<p>5 rows × 50 columns</p>\n",
       "</div>"
      ],
      "text/plain": [
       "    1972 1973  1974  1975 1976 1977 1978  1979  1980  1981  ... 2012 2013  \\\n",
       "Jan  3.3  3.6   9.4  11.8  6.7  5.2  6.8   9.3  13.9  11.8  ...  2.9  1.6   \n",
       "Feb  3.5  3.9  10.0  11.2  6.3  5.9  6.4   9.9  14.2  11.4  ...  2.9  2.0   \n",
       "Mar  3.5  4.6  10.4  10.3  6.1  6.4  6.6  10.1  14.8  10.5  ...  2.7  1.5   \n",
       "Apr  3.5  5.1  10.1  10.2  6.0  7.0  6.5  10.5  14.7  10.0  ...  2.3  1.1   \n",
       "May  3.2  5.5  10.7   9.5  6.2  6.7  7.0  10.9  14.4   9.8  ...  1.7  1.4   \n",
       "\n",
       "    2014 2015 2016 2017 2018 2019 2020 2021  \n",
       "Jan  1.6 -0.1  1.4  2.5  2.1  1.6  2.5  1.4  \n",
       "Feb  1.1  0.0  1.0  2.7  2.2  1.5  2.3  1.7  \n",
       "Mar  1.5 -0.1  0.9  2.4  2.4  1.9  1.5  2.6  \n",
       "Apr  2.0 -0.2  1.1  2.2  2.5  2.0  0.3  4.2  \n",
       "May  2.1  0.0  1.0  1.9  2.8  1.8  0.1  5.0  \n",
       "\n",
       "[5 rows x 50 columns]"
      ]
     },
     "execution_count": 40,
     "metadata": {},
     "output_type": "execute_result"
    }
   ],
   "source": [
    "inflation.head()"
   ]
  },
  {
   "cell_type": "code",
   "execution_count": 41,
   "metadata": {},
   "outputs": [],
   "source": [
    "months = [\"January\", \"February\", \"March\", \"April\", \"May\", \"June\", \"July\", \"August\", \"September\", \"October\", \"November\", \"December\"]\n",
    "inflation[\"month\"] = months"
   ]
  },
  {
   "cell_type": "code",
   "execution_count": 42,
   "metadata": {},
   "outputs": [],
   "source": [
    "#like the other two sets of data, melting the dataframe makes it possible to create a pivot table\n",
    "inflation_df = pd.melt(inflation, id_vars='month', value_vars=[year for year in years])"
   ]
  },
  {
   "cell_type": "code",
   "execution_count": 43,
   "metadata": {},
   "outputs": [
    {
     "data": {
      "text/html": [
       "<div>\n",
       "<style scoped>\n",
       "    .dataframe tbody tr th:only-of-type {\n",
       "        vertical-align: middle;\n",
       "    }\n",
       "\n",
       "    .dataframe tbody tr th {\n",
       "        vertical-align: top;\n",
       "    }\n",
       "\n",
       "    .dataframe thead th {\n",
       "        text-align: right;\n",
       "    }\n",
       "</style>\n",
       "<table border=\"1\" class=\"dataframe\">\n",
       "  <thead>\n",
       "    <tr style=\"text-align: right;\">\n",
       "      <th></th>\n",
       "      <th>month</th>\n",
       "      <th>variable</th>\n",
       "      <th>value</th>\n",
       "    </tr>\n",
       "  </thead>\n",
       "  <tbody>\n",
       "    <tr>\n",
       "      <th>0</th>\n",
       "      <td>January</td>\n",
       "      <td>1972</td>\n",
       "      <td>3.3</td>\n",
       "    </tr>\n",
       "    <tr>\n",
       "      <th>1</th>\n",
       "      <td>February</td>\n",
       "      <td>1972</td>\n",
       "      <td>3.5</td>\n",
       "    </tr>\n",
       "    <tr>\n",
       "      <th>2</th>\n",
       "      <td>March</td>\n",
       "      <td>1972</td>\n",
       "      <td>3.5</td>\n",
       "    </tr>\n",
       "    <tr>\n",
       "      <th>3</th>\n",
       "      <td>April</td>\n",
       "      <td>1972</td>\n",
       "      <td>3.5</td>\n",
       "    </tr>\n",
       "    <tr>\n",
       "      <th>4</th>\n",
       "      <td>May</td>\n",
       "      <td>1972</td>\n",
       "      <td>3.2</td>\n",
       "    </tr>\n",
       "    <tr>\n",
       "      <th>...</th>\n",
       "      <td>...</td>\n",
       "      <td>...</td>\n",
       "      <td>...</td>\n",
       "    </tr>\n",
       "    <tr>\n",
       "      <th>595</th>\n",
       "      <td>August</td>\n",
       "      <td>2021</td>\n",
       "      <td>5.3</td>\n",
       "    </tr>\n",
       "    <tr>\n",
       "      <th>596</th>\n",
       "      <td>September</td>\n",
       "      <td>2021</td>\n",
       "      <td>5.4</td>\n",
       "    </tr>\n",
       "    <tr>\n",
       "      <th>597</th>\n",
       "      <td>October</td>\n",
       "      <td>2021</td>\n",
       "      <td>6.2</td>\n",
       "    </tr>\n",
       "    <tr>\n",
       "      <th>598</th>\n",
       "      <td>November</td>\n",
       "      <td>2021</td>\n",
       "      <td>6.8</td>\n",
       "    </tr>\n",
       "    <tr>\n",
       "      <th>599</th>\n",
       "      <td>December</td>\n",
       "      <td>2021</td>\n",
       "      <td>7.0</td>\n",
       "    </tr>\n",
       "  </tbody>\n",
       "</table>\n",
       "<p>600 rows × 3 columns</p>\n",
       "</div>"
      ],
      "text/plain": [
       "         month variable value\n",
       "0      January     1972   3.3\n",
       "1     February     1972   3.5\n",
       "2        March     1972   3.5\n",
       "3        April     1972   3.5\n",
       "4          May     1972   3.2\n",
       "..         ...      ...   ...\n",
       "595     August     2021   5.3\n",
       "596  September     2021   5.4\n",
       "597    October     2021   6.2\n",
       "598   November     2021   6.8\n",
       "599   December     2021   7.0\n",
       "\n",
       "[600 rows x 3 columns]"
      ]
     },
     "execution_count": 43,
     "metadata": {},
     "output_type": "execute_result"
    }
   ],
   "source": [
    "inflation_df"
   ]
  },
  {
   "cell_type": "code",
   "execution_count": 44,
   "metadata": {},
   "outputs": [],
   "source": [
    "inflation_df[\"variable\"] = inflation_df[\"variable\"].astype(str)\n",
    "inflation_df[\"date\"] = inflation_df[\"month\"] + ' ' + inflation_df[\"variable\"]\n",
    "inflation_df[\"date\"] = pd.to_datetime(inflation_df[\"date\"])"
   ]
  },
  {
   "cell_type": "code",
   "execution_count": 45,
   "metadata": {},
   "outputs": [],
   "source": [
    "inflation_df['value'] = inflation_df[\"value\"].astype(float)"
   ]
  },
  {
   "cell_type": "code",
   "execution_count": 46,
   "metadata": {},
   "outputs": [
    {
     "data": {
      "text/html": [
       "<div>\n",
       "<style scoped>\n",
       "    .dataframe tbody tr th:only-of-type {\n",
       "        vertical-align: middle;\n",
       "    }\n",
       "\n",
       "    .dataframe tbody tr th {\n",
       "        vertical-align: top;\n",
       "    }\n",
       "\n",
       "    .dataframe thead th {\n",
       "        text-align: right;\n",
       "    }\n",
       "</style>\n",
       "<table border=\"1\" class=\"dataframe\">\n",
       "  <thead>\n",
       "    <tr style=\"text-align: right;\">\n",
       "      <th></th>\n",
       "      <th>month</th>\n",
       "      <th>variable</th>\n",
       "      <th>value</th>\n",
       "      <th>date</th>\n",
       "    </tr>\n",
       "  </thead>\n",
       "  <tbody>\n",
       "    <tr>\n",
       "      <th>0</th>\n",
       "      <td>January</td>\n",
       "      <td>1972</td>\n",
       "      <td>3.3</td>\n",
       "      <td>1972-01-01</td>\n",
       "    </tr>\n",
       "    <tr>\n",
       "      <th>1</th>\n",
       "      <td>February</td>\n",
       "      <td>1972</td>\n",
       "      <td>3.5</td>\n",
       "      <td>1972-02-01</td>\n",
       "    </tr>\n",
       "    <tr>\n",
       "      <th>2</th>\n",
       "      <td>March</td>\n",
       "      <td>1972</td>\n",
       "      <td>3.5</td>\n",
       "      <td>1972-03-01</td>\n",
       "    </tr>\n",
       "    <tr>\n",
       "      <th>3</th>\n",
       "      <td>April</td>\n",
       "      <td>1972</td>\n",
       "      <td>3.5</td>\n",
       "      <td>1972-04-01</td>\n",
       "    </tr>\n",
       "    <tr>\n",
       "      <th>4</th>\n",
       "      <td>May</td>\n",
       "      <td>1972</td>\n",
       "      <td>3.2</td>\n",
       "      <td>1972-05-01</td>\n",
       "    </tr>\n",
       "    <tr>\n",
       "      <th>...</th>\n",
       "      <td>...</td>\n",
       "      <td>...</td>\n",
       "      <td>...</td>\n",
       "      <td>...</td>\n",
       "    </tr>\n",
       "    <tr>\n",
       "      <th>595</th>\n",
       "      <td>August</td>\n",
       "      <td>2021</td>\n",
       "      <td>5.3</td>\n",
       "      <td>2021-08-01</td>\n",
       "    </tr>\n",
       "    <tr>\n",
       "      <th>596</th>\n",
       "      <td>September</td>\n",
       "      <td>2021</td>\n",
       "      <td>5.4</td>\n",
       "      <td>2021-09-01</td>\n",
       "    </tr>\n",
       "    <tr>\n",
       "      <th>597</th>\n",
       "      <td>October</td>\n",
       "      <td>2021</td>\n",
       "      <td>6.2</td>\n",
       "      <td>2021-10-01</td>\n",
       "    </tr>\n",
       "    <tr>\n",
       "      <th>598</th>\n",
       "      <td>November</td>\n",
       "      <td>2021</td>\n",
       "      <td>6.8</td>\n",
       "      <td>2021-11-01</td>\n",
       "    </tr>\n",
       "    <tr>\n",
       "      <th>599</th>\n",
       "      <td>December</td>\n",
       "      <td>2021</td>\n",
       "      <td>7.0</td>\n",
       "      <td>2021-12-01</td>\n",
       "    </tr>\n",
       "  </tbody>\n",
       "</table>\n",
       "<p>600 rows × 4 columns</p>\n",
       "</div>"
      ],
      "text/plain": [
       "         month variable  value       date\n",
       "0      January     1972    3.3 1972-01-01\n",
       "1     February     1972    3.5 1972-02-01\n",
       "2        March     1972    3.5 1972-03-01\n",
       "3        April     1972    3.5 1972-04-01\n",
       "4          May     1972    3.2 1972-05-01\n",
       "..         ...      ...    ...        ...\n",
       "595     August     2021    5.3 2021-08-01\n",
       "596  September     2021    5.4 2021-09-01\n",
       "597    October     2021    6.2 2021-10-01\n",
       "598   November     2021    6.8 2021-11-01\n",
       "599   December     2021    7.0 2021-12-01\n",
       "\n",
       "[600 rows x 4 columns]"
      ]
     },
     "execution_count": 46,
     "metadata": {},
     "output_type": "execute_result"
    }
   ],
   "source": [
    "inflation_df"
   ]
  },
  {
   "cell_type": "markdown",
   "metadata": {},
   "source": [
    "### Create Pivot Table for Inflation and Visualize"
   ]
  },
  {
   "cell_type": "code",
   "execution_count": 47,
   "metadata": {},
   "outputs": [],
   "source": [
    "inflation_pivot = inflation_df.pivot_table(index='date', values='value')"
   ]
  },
  {
   "cell_type": "code",
   "execution_count": 48,
   "metadata": {},
   "outputs": [
    {
     "data": {
      "text/html": [
       "<div>\n",
       "<style scoped>\n",
       "    .dataframe tbody tr th:only-of-type {\n",
       "        vertical-align: middle;\n",
       "    }\n",
       "\n",
       "    .dataframe tbody tr th {\n",
       "        vertical-align: top;\n",
       "    }\n",
       "\n",
       "    .dataframe thead th {\n",
       "        text-align: right;\n",
       "    }\n",
       "</style>\n",
       "<table border=\"1\" class=\"dataframe\">\n",
       "  <thead>\n",
       "    <tr style=\"text-align: right;\">\n",
       "      <th></th>\n",
       "      <th>value</th>\n",
       "    </tr>\n",
       "    <tr>\n",
       "      <th>date</th>\n",
       "      <th></th>\n",
       "    </tr>\n",
       "  </thead>\n",
       "  <tbody>\n",
       "    <tr>\n",
       "      <th>1972-01-01</th>\n",
       "      <td>3.3</td>\n",
       "    </tr>\n",
       "    <tr>\n",
       "      <th>1972-02-01</th>\n",
       "      <td>3.5</td>\n",
       "    </tr>\n",
       "    <tr>\n",
       "      <th>1972-03-01</th>\n",
       "      <td>3.5</td>\n",
       "    </tr>\n",
       "    <tr>\n",
       "      <th>1972-04-01</th>\n",
       "      <td>3.5</td>\n",
       "    </tr>\n",
       "    <tr>\n",
       "      <th>1972-05-01</th>\n",
       "      <td>3.2</td>\n",
       "    </tr>\n",
       "  </tbody>\n",
       "</table>\n",
       "</div>"
      ],
      "text/plain": [
       "            value\n",
       "date             \n",
       "1972-01-01    3.3\n",
       "1972-02-01    3.5\n",
       "1972-03-01    3.5\n",
       "1972-04-01    3.5\n",
       "1972-05-01    3.2"
      ]
     },
     "execution_count": 48,
     "metadata": {},
     "output_type": "execute_result"
    }
   ],
   "source": [
    "inflation_pivot.head()"
   ]
  },
  {
   "cell_type": "code",
   "execution_count": 49,
   "metadata": {},
   "outputs": [
    {
     "data": {
      "image/png": "[encoded data removed]",
      "text/plain": [
       "<Figure size 432x288 with 1 Axes>"
      ]
     },
     "metadata": {
      "needs_background": "light"
     },
     "output_type": "display_data"
    }
   ],
   "source": [
    "inflation_pivot.plot(kind='line')\n",
    "plt.show()"
   ]
  },
  {
   "cell_type": "markdown",
   "metadata": {},
   "source": [
    "## Combine graphs to see relationship"
   ]
  },
  {
   "cell_type": "code",
   "execution_count": 50,
   "metadata": {},
   "outputs": [
    {
     "data": {
      "image/png": "[encoded data removed]",
      "text/plain": [
       "<Figure size 432x288 with 1 Axes>"
      ]
     },
     "metadata": {
      "needs_background": "light"
     },
     "output_type": "display_data"
    }
   ],
   "source": [
    "plt.plot(mort_rate_piv, label=\"Mortgage Rates\")\n",
    "plt.plot(fed_piv, label=\"Federal Prime Rates\")\n",
    "plt.show()"
   ]
  },
  {
   "cell_type": "code",
   "execution_count": 51,
   "metadata": {},
   "outputs": [
    {
     "data": {
      "image/png": "[encoded data removed]",
      "text/plain": [
       "<Figure size 432x288 with 1 Axes>"
      ]
     },
     "metadata": {
      "needs_background": "light"
     },
     "output_type": "display_data"
    }
   ],
   "source": [
    "plt.plot(mort_rate_piv, label=\"Mortgage Rates\")\n",
    "plt.plot(inflation_pivot, label=\"Inflation Rate\")\n",
    "plt.show()"
   ]
  },
  {
   "cell_type": "code",
   "execution_count": 58,
   "metadata": {},
   "outputs": [
    {
     "data": {
      "image/png": "[encoded data removed]",
      "text/plain": [
       "<Figure size 864x576 with 1 Axes>"
      ]
     },
     "metadata": {
      "needs_background": "light"
     },
     "output_type": "display_data"
    }
   ],
   "source": [
    "fig, ax1= plt.subplots(figsize=(12, 8))\n",
    "\n",
    "for location in ['right', 'top', 'left', 'bottom']:\n",
    "    ax1.spines[location].set_visible(False)\n",
    "\n",
    "ax1.plot(feds[\"Effective Date\"], feds[\"Rate\"], linewidth=3, label = \"Federal Reserve Prime Rate\", color= \"#6d904f\")\n",
    "ax1.plot(morts_long[\"date\"], morts_long[\"value\"], linewidth=3, label = \"Mortgage Locked Rates\", color='#ffae42')\n",
    "\n",
    "ax1.text(8080, 14.3, \"Federal Reserve Prime Rate\", size=18, color= \"#6d904f\", weight='bold')\n",
    "ax1.text(11780, 15, \"vs\", size=20, color= \"black\", weight='bold')\n",
    "ax1.text(7400, 15.9, \"Monthly Mortgage Locked Rates\", size=18, color= \"#ffae42\", weight='bold')\n",
    "ax1.axhline(y=4, xmin=0.1, xmax=1, c='grey', alpha=0.5)\n",
    "ax1.axhline(y=8, xmin=0.1, xmax=1, c='grey', alpha=0.5)\n",
    "ax1.axhline(y=12, xmin=0.1, xmax=1, c='grey', alpha=0.5)\n",
    "ax1.text(y=4.15, x=18550, s=\"4%\", size=15, c='grey')\n",
    "ax1.text(y=8.15, x=18550, s=\"8%\", size=15, c='grey')\n",
    "ax1.text(y=12.15, x=18550, s=\"12%\", size=15, c='grey')\n",
    "ax1.set_xticklabels([])\n",
    "ax1.set_yticklabels([])\n",
    "ax1.tick_params(bottom=False, left=False)\n",
    "ax1.text(y=1.7, x=3100, s=\"1980\", size=15, c='grey')\n",
    "ax1.text(y=1.7, x=6750, s=\"1990\", size=15, c='grey')\n",
    "ax1.text(y=1.7, x=10400, s=\"2000\", size=15, c='grey')\n",
    "ax1.text(y=1.7, x=14100, s=\"2010\", size=15, c='grey')\n",
    "ax1.text(y=1.7, x=17750, s=\"2020\", size=15, c='grey')\n",
    "ax1.axhline(y=0.9, xmin=0.1, xmax=1, c='white', alpha=0.5)\n",
    "plt.savefig('fed_vs_mortgage_rates.png')\n",
    "plt.show()"
   ]
  },
  {
   "cell_type": "code",
   "execution_count": 53,
   "metadata": {},
   "outputs": [
    {
     "data": {
      "image/png": "[encoded data removed]",
      "text/plain": [
       "<Figure size 864x576 with 1 Axes>"
      ]
     },
     "metadata": {
      "needs_background": "light"
     },
     "output_type": "display_data"
    }
   ],
   "source": [
    "fig, ax1= plt.subplots(figsize=(12, 8))\n",
    "\n",
    "for location in ['right', 'top', 'left', 'bottom']:\n",
    "    ax1.spines[location].set_visible(False)\n",
    "\n",
    "ax1.plot(inflation_df[\"date\"], inflation_df[\"value\"], linewidth=3, label = \"Inflation Rate\", color= \"#33A1C9\")\n",
    "ax1.plot(morts_long[\"date\"], morts_long[\"value\"], linewidth=3, label = \"Mortgage Locked Rates\", color='#ffae42')\n",
    "\n",
    "ax1.text(10080, 14, \"Inflation Rate\", size=18, color= \"#33A1C9\", weight='bold')\n",
    "ax1.text(11780, 14.85, \"vs\", size=20, color= \"black\", weight='bold')\n",
    "ax1.text(9050, 15.9, \"Mortgage Lock Rates\", size=18, color= \"#ffae42\", weight='bold')\n",
    "ax1.axhline(y=4, xmin=0.1, xmax=1, c='grey', alpha=0.5)\n",
    "ax1.axhline(y=8, xmin=0.1, xmax=1, c='grey', alpha=0.5)\n",
    "ax1.axhline(y=0, xmin=0.1, xmax=1, c='grey', alpha=0.5)\n",
    "ax1.text(y=4.15, x=19050, s=\"4%\", size=15, c='grey')\n",
    "ax1.text(y=8.15, x=19050, s=\"8%\", size=15, c='grey')\n",
    "ax1.text(y=0.15, x=19050, s=\"0%\", size=15, c='grey')\n",
    "ax1.set_xticklabels([])\n",
    "ax1.set_yticklabels([])\n",
    "ax1.tick_params(bottom=False, left=False)\n",
    "ax1.text(y=-2, x=3100, s=\"1980\", size=15, c='grey')\n",
    "ax1.text(y=-2, x=6750, s=\"1990\", size=15, c='grey')\n",
    "ax1.text(y=-2, x=10400, s=\"2000\", size=15, c='grey')\n",
    "ax1.text(y=-2, x=14100, s=\"2010\", size=15, c='grey')\n",
    "ax1.text(y=-2, x=17750, s=\"2020\", size=15, c='grey')\n",
    "\n",
    "plt.savefig('interest_vs_mortgage_rates.png')\n",
    "plt.show()"
   ]
  },
  {
   "cell_type": "code",
   "execution_count": 59,
   "metadata": {},
   "outputs": [
    {
     "data": {
      "image/png": "[encoded data removed]",
      "text/plain": [
       "<Figure size 864x576 with 1 Axes>"
      ]
     },
     "metadata": {
      "needs_background": "light"
     },
     "output_type": "display_data"
    }
   ],
   "source": [
    "fig, ax1= plt.subplots(figsize=(12, 8))\n",
    "\n",
    "for location in ['right', 'top', 'left', 'bottom']:\n",
    "    ax1.spines[location].set_visible(False)\n",
    "\n",
    "ax1.plot(inflation_df[\"date\"], inflation_df[\"value\"], linewidth=3, label = \"Inflation\", color= \"#33A1C9\")\n",
    "ax1.plot(feds[\"Effective Date\"], feds[\"Rate\"], linewidth=3, label = \"Federal Reserve Prime Rate\", color= \"#6d904f\")\n",
    "\n",
    "ax1.text(10380, 11.5, \"Inflation\", size=18, color= \"#33A1C9\", weight='bold')\n",
    "ax1.text(11280, 12.5, \"vs\", size=20, color= \"black\", weight='bold')\n",
    "ax1.text(7550, 13.4, \"Federal Reserve Prime Rate\", size=18, color= \"#6d904f\", weight='bold')\n",
    "ax1.axhline(y=4, xmin=0.1, xmax=1, c='grey', alpha=0.5)\n",
    "ax1.axhline(y=8, xmin=0.1, xmax=1, c='grey', alpha=0.5)\n",
    "ax1.axhline(y=0, xmin=0.1, xmax=1, c='grey', alpha=0.5)\n",
    "ax1.text(y=4.15, x=19050, s=\"4%\", size=15, c='grey')\n",
    "ax1.text(y=8.15, x=19050, s=\"8%\", size=15, c='grey')\n",
    "ax1.text(y=0.15, x=19050, s=\"0%\", size=15, c='grey')\n",
    "ax1.set_xticklabels([])\n",
    "ax1.set_yticklabels([])\n",
    "ax1.tick_params(bottom=False, left=False)\n",
    "ax1.text(y=-2, x=3100, s=\"1980\", size=15, c='grey')\n",
    "ax1.text(y=-2, x=6750, s=\"1990\", size=15, c='grey')\n",
    "ax1.text(y=-2, x=10400, s=\"2000\", size=15, c='grey')\n",
    "ax1.text(y=-2, x=14100, s=\"2010\", size=15, c='grey')\n",
    "ax1.text(y=-2, x=17750, s=\"2020\", size=15, c='grey')\n",
    "\n",
    "# plt.savefig('interest_vs_mortgage_rates.png')\n",
    "plt.show()"
   ]
  },
  {
   "cell_type": "code",
   "execution_count": null,
   "metadata": {},
   "outputs": [],
   "source": []
  }
 ],
 "metadata": {
  "interpreter": {
   "hash": "41246782ba60c54f3e07f08b69018f3227f9c62ff6098b21acb6270c831827e5"
  },
  "kernelspec": {
   "display_name": "Python 3",
   "language": "python",
   "name": "python3"
  },
  "language_info": {
   "codemirror_mode": {
    "name": "ipython",
    "version": 3
   },
   "file_extension": ".py",
   "mimetype": "text/x-python",
   "name": "python",
   "nbconvert_exporter": "python",
   "pygments_lexer": "ipython3",
   "version": "3.9.10"
  }
 },
 "nbformat": 4,
 "nbformat_minor": 4
}
